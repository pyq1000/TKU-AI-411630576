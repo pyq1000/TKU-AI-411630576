{
  "nbformat": 4,
  "nbformat_minor": 0,
  "metadata": {
    "colab": {
      "provenance": [],
      "authorship_tag": "ABX9TyP05u8qJVh2Lo/NNFSR38I5",
      "include_colab_link": true
    },
    "kernelspec": {
      "name": "python3",
      "display_name": "Python 3"
    },
    "language_info": {
      "name": "python"
    }
  },
  "cells": [
    {
      "cell_type": "markdown",
      "metadata": {
        "id": "view-in-github",
        "colab_type": "text"
      },
      "source": [
        "<a href=\"https://colab.research.google.com/github/pyq1000/TKU-AI-411630576/blob/main/hello.ipynb\" target=\"_parent\"><img src=\"https://colab.research.google.com/assets/colab-badge.svg\" alt=\"Open In Colab\"/></a>"
      ]
    },
    {
      "cell_type": "code",
      "execution_count": 1,
      "metadata": {
        "id": "GtcgzRFXTdYe",
        "colab": {
          "base_uri": "https://localhost:8080/"
        },
        "outputId": "7565505e-bc8f-4b93-fae0-6a2fa5764388"
      },
      "outputs": [
        {
          "output_type": "stream",
          "name": "stdout",
          "text": [
            "Hello!\n"
          ]
        }
      ],
      "source": [
        "print(\"Hello!\")"
      ]
    },
    {
      "cell_type": "code",
      "source": [
        "print(\"我的第一個程式作業!\")"
      ],
      "metadata": {
        "colab": {
          "base_uri": "https://localhost:8080/"
        },
        "id": "bdmphiiZVSFH",
        "outputId": "29918847-7546-4725-9ba6-7c7f60c4a096"
      },
      "execution_count": 2,
      "outputs": [
        {
          "output_type": "stream",
          "name": "stdout",
          "text": [
            "我的第一個程式作業!\n"
          ]
        }
      ]
    },
    {
      "cell_type": "code",
      "source": [],
      "metadata": {
        "id": "-wMwsB2yVmr2"
      },
      "execution_count": null,
      "outputs": []
    }
  ]
}